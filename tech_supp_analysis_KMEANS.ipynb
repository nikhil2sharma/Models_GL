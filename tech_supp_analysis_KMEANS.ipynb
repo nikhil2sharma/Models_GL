{
 "cells": [
  {
   "cell_type": "markdown",
   "metadata": {
    "colab_type": "text",
    "id": "8OQfbkF2qf5W"
   },
   "source": [
    " #  <p style=\"text-align: center;\">Technical Support Data Analysis"
   ]
  },
  {
   "cell_type": "markdown",
   "metadata": {
    "colab_type": "text",
    "id": "h1CyfJ0yqf5Z"
   },
   "source": [
    "Technical support data can often be a rich source of information on opportunities for improving customer experience. The lesser the trouble customers have with the product the better. Even better when the customers are able to overcome\n",
    "technical challenge quickly with minimal effort. Let us analyze the tech support data and do some basic analysis on problem types, time to resolve the problem and channel of suppor that is most suitable"
   ]
  },
  {
   "cell_type": "markdown",
   "metadata": {
    "colab_type": "text",
    "id": "ozpdWvkQqf5b"
   },
   "source": [
    "## Loading the Dataset"
   ]
  },
  {
   "cell_type": "code",
   "execution_count": 1,
   "metadata": {
    "colab": {},
    "colab_type": "code",
    "id": "-S9w2oBpqf5d",
    "outputId": "1c586e99-a114-4744-f627-0886fe5f76d9"
   },
   "outputs": [
    {
     "ename": "FileNotFoundError",
     "evalue": "File b'technical_support_data.csv' does not exist",
     "output_type": "error",
     "traceback": [
      "\u001b[1;31m---------------------------------------------------------------------------\u001b[0m",
      "\u001b[1;31mFileNotFoundError\u001b[0m                         Traceback (most recent call last)",
      "\u001b[1;32m<ipython-input-1-8ac7926928cd>\u001b[0m in \u001b[0;36m<module>\u001b[1;34m\u001b[0m\n\u001b[0;32m      8\u001b[0m \u001b[1;31m#import sklearn.metrics\u001b[0m\u001b[1;33m\u001b[0m\u001b[1;33m\u001b[0m\u001b[0m\n\u001b[0;32m      9\u001b[0m \u001b[1;33m\u001b[0m\u001b[0m\n\u001b[1;32m---> 10\u001b[1;33m \u001b[0mtech_supp_df\u001b[0m \u001b[1;33m=\u001b[0m \u001b[0mpd\u001b[0m\u001b[1;33m.\u001b[0m\u001b[0mread_csv\u001b[0m\u001b[1;33m(\u001b[0m\u001b[1;34m\"technical_support_data.csv\"\u001b[0m\u001b[1;33m)\u001b[0m\u001b[1;33m\u001b[0m\u001b[0m\n\u001b[0m\u001b[0;32m     11\u001b[0m \u001b[0mtech_supp_df\u001b[0m\u001b[1;33m.\u001b[0m\u001b[0mdtypes\u001b[0m\u001b[1;33m\u001b[0m\u001b[0m\n",
      "\u001b[1;32mc:\\users\\nikhisha\\appdata\\local\\programs\\python\\python37-32\\lib\\site-packages\\pandas\\io\\parsers.py\u001b[0m in \u001b[0;36mparser_f\u001b[1;34m(filepath_or_buffer, sep, delimiter, header, names, index_col, usecols, squeeze, prefix, mangle_dupe_cols, dtype, engine, converters, true_values, false_values, skipinitialspace, skiprows, nrows, na_values, keep_default_na, na_filter, verbose, skip_blank_lines, parse_dates, infer_datetime_format, keep_date_col, date_parser, dayfirst, iterator, chunksize, compression, thousands, decimal, lineterminator, quotechar, quoting, escapechar, comment, encoding, dialect, tupleize_cols, error_bad_lines, warn_bad_lines, skipfooter, doublequote, delim_whitespace, low_memory, memory_map, float_precision)\u001b[0m\n\u001b[0;32m    676\u001b[0m                     skip_blank_lines=skip_blank_lines)\n\u001b[0;32m    677\u001b[0m \u001b[1;33m\u001b[0m\u001b[0m\n\u001b[1;32m--> 678\u001b[1;33m         \u001b[1;32mreturn\u001b[0m \u001b[0m_read\u001b[0m\u001b[1;33m(\u001b[0m\u001b[0mfilepath_or_buffer\u001b[0m\u001b[1;33m,\u001b[0m \u001b[0mkwds\u001b[0m\u001b[1;33m)\u001b[0m\u001b[1;33m\u001b[0m\u001b[0m\n\u001b[0m\u001b[0;32m    679\u001b[0m \u001b[1;33m\u001b[0m\u001b[0m\n\u001b[0;32m    680\u001b[0m     \u001b[0mparser_f\u001b[0m\u001b[1;33m.\u001b[0m\u001b[0m__name__\u001b[0m \u001b[1;33m=\u001b[0m \u001b[0mname\u001b[0m\u001b[1;33m\u001b[0m\u001b[0m\n",
      "\u001b[1;32mc:\\users\\nikhisha\\appdata\\local\\programs\\python\\python37-32\\lib\\site-packages\\pandas\\io\\parsers.py\u001b[0m in \u001b[0;36m_read\u001b[1;34m(filepath_or_buffer, kwds)\u001b[0m\n\u001b[0;32m    438\u001b[0m \u001b[1;33m\u001b[0m\u001b[0m\n\u001b[0;32m    439\u001b[0m     \u001b[1;31m# Create the parser.\u001b[0m\u001b[1;33m\u001b[0m\u001b[1;33m\u001b[0m\u001b[0m\n\u001b[1;32m--> 440\u001b[1;33m     \u001b[0mparser\u001b[0m \u001b[1;33m=\u001b[0m \u001b[0mTextFileReader\u001b[0m\u001b[1;33m(\u001b[0m\u001b[0mfilepath_or_buffer\u001b[0m\u001b[1;33m,\u001b[0m \u001b[1;33m**\u001b[0m\u001b[0mkwds\u001b[0m\u001b[1;33m)\u001b[0m\u001b[1;33m\u001b[0m\u001b[0m\n\u001b[0m\u001b[0;32m    441\u001b[0m \u001b[1;33m\u001b[0m\u001b[0m\n\u001b[0;32m    442\u001b[0m     \u001b[1;32mif\u001b[0m \u001b[0mchunksize\u001b[0m \u001b[1;32mor\u001b[0m \u001b[0miterator\u001b[0m\u001b[1;33m:\u001b[0m\u001b[1;33m\u001b[0m\u001b[0m\n",
      "\u001b[1;32mc:\\users\\nikhisha\\appdata\\local\\programs\\python\\python37-32\\lib\\site-packages\\pandas\\io\\parsers.py\u001b[0m in \u001b[0;36m__init__\u001b[1;34m(self, f, engine, **kwds)\u001b[0m\n\u001b[0;32m    785\u001b[0m             \u001b[0mself\u001b[0m\u001b[1;33m.\u001b[0m\u001b[0moptions\u001b[0m\u001b[1;33m[\u001b[0m\u001b[1;34m'has_index_names'\u001b[0m\u001b[1;33m]\u001b[0m \u001b[1;33m=\u001b[0m \u001b[0mkwds\u001b[0m\u001b[1;33m[\u001b[0m\u001b[1;34m'has_index_names'\u001b[0m\u001b[1;33m]\u001b[0m\u001b[1;33m\u001b[0m\u001b[0m\n\u001b[0;32m    786\u001b[0m \u001b[1;33m\u001b[0m\u001b[0m\n\u001b[1;32m--> 787\u001b[1;33m         \u001b[0mself\u001b[0m\u001b[1;33m.\u001b[0m\u001b[0m_make_engine\u001b[0m\u001b[1;33m(\u001b[0m\u001b[0mself\u001b[0m\u001b[1;33m.\u001b[0m\u001b[0mengine\u001b[0m\u001b[1;33m)\u001b[0m\u001b[1;33m\u001b[0m\u001b[0m\n\u001b[0m\u001b[0;32m    788\u001b[0m \u001b[1;33m\u001b[0m\u001b[0m\n\u001b[0;32m    789\u001b[0m     \u001b[1;32mdef\u001b[0m \u001b[0mclose\u001b[0m\u001b[1;33m(\u001b[0m\u001b[0mself\u001b[0m\u001b[1;33m)\u001b[0m\u001b[1;33m:\u001b[0m\u001b[1;33m\u001b[0m\u001b[0m\n",
      "\u001b[1;32mc:\\users\\nikhisha\\appdata\\local\\programs\\python\\python37-32\\lib\\site-packages\\pandas\\io\\parsers.py\u001b[0m in \u001b[0;36m_make_engine\u001b[1;34m(self, engine)\u001b[0m\n\u001b[0;32m   1012\u001b[0m     \u001b[1;32mdef\u001b[0m \u001b[0m_make_engine\u001b[0m\u001b[1;33m(\u001b[0m\u001b[0mself\u001b[0m\u001b[1;33m,\u001b[0m \u001b[0mengine\u001b[0m\u001b[1;33m=\u001b[0m\u001b[1;34m'c'\u001b[0m\u001b[1;33m)\u001b[0m\u001b[1;33m:\u001b[0m\u001b[1;33m\u001b[0m\u001b[0m\n\u001b[0;32m   1013\u001b[0m         \u001b[1;32mif\u001b[0m \u001b[0mengine\u001b[0m \u001b[1;33m==\u001b[0m \u001b[1;34m'c'\u001b[0m\u001b[1;33m:\u001b[0m\u001b[1;33m\u001b[0m\u001b[0m\n\u001b[1;32m-> 1014\u001b[1;33m             \u001b[0mself\u001b[0m\u001b[1;33m.\u001b[0m\u001b[0m_engine\u001b[0m \u001b[1;33m=\u001b[0m \u001b[0mCParserWrapper\u001b[0m\u001b[1;33m(\u001b[0m\u001b[0mself\u001b[0m\u001b[1;33m.\u001b[0m\u001b[0mf\u001b[0m\u001b[1;33m,\u001b[0m \u001b[1;33m**\u001b[0m\u001b[0mself\u001b[0m\u001b[1;33m.\u001b[0m\u001b[0moptions\u001b[0m\u001b[1;33m)\u001b[0m\u001b[1;33m\u001b[0m\u001b[0m\n\u001b[0m\u001b[0;32m   1015\u001b[0m         \u001b[1;32melse\u001b[0m\u001b[1;33m:\u001b[0m\u001b[1;33m\u001b[0m\u001b[0m\n\u001b[0;32m   1016\u001b[0m             \u001b[1;32mif\u001b[0m \u001b[0mengine\u001b[0m \u001b[1;33m==\u001b[0m \u001b[1;34m'python'\u001b[0m\u001b[1;33m:\u001b[0m\u001b[1;33m\u001b[0m\u001b[0m\n",
      "\u001b[1;32mc:\\users\\nikhisha\\appdata\\local\\programs\\python\\python37-32\\lib\\site-packages\\pandas\\io\\parsers.py\u001b[0m in \u001b[0;36m__init__\u001b[1;34m(self, src, **kwds)\u001b[0m\n\u001b[0;32m   1706\u001b[0m         \u001b[0mkwds\u001b[0m\u001b[1;33m[\u001b[0m\u001b[1;34m'usecols'\u001b[0m\u001b[1;33m]\u001b[0m \u001b[1;33m=\u001b[0m \u001b[0mself\u001b[0m\u001b[1;33m.\u001b[0m\u001b[0musecols\u001b[0m\u001b[1;33m\u001b[0m\u001b[0m\n\u001b[0;32m   1707\u001b[0m \u001b[1;33m\u001b[0m\u001b[0m\n\u001b[1;32m-> 1708\u001b[1;33m         \u001b[0mself\u001b[0m\u001b[1;33m.\u001b[0m\u001b[0m_reader\u001b[0m \u001b[1;33m=\u001b[0m \u001b[0mparsers\u001b[0m\u001b[1;33m.\u001b[0m\u001b[0mTextReader\u001b[0m\u001b[1;33m(\u001b[0m\u001b[0msrc\u001b[0m\u001b[1;33m,\u001b[0m \u001b[1;33m**\u001b[0m\u001b[0mkwds\u001b[0m\u001b[1;33m)\u001b[0m\u001b[1;33m\u001b[0m\u001b[0m\n\u001b[0m\u001b[0;32m   1709\u001b[0m \u001b[1;33m\u001b[0m\u001b[0m\n\u001b[0;32m   1710\u001b[0m         \u001b[0mpassed_names\u001b[0m \u001b[1;33m=\u001b[0m \u001b[0mself\u001b[0m\u001b[1;33m.\u001b[0m\u001b[0mnames\u001b[0m \u001b[1;32mis\u001b[0m \u001b[1;32mNone\u001b[0m\u001b[1;33m\u001b[0m\u001b[0m\n",
      "\u001b[1;32mpandas\\_libs\\parsers.pyx\u001b[0m in \u001b[0;36mpandas._libs.parsers.TextReader.__cinit__\u001b[1;34m()\u001b[0m\n",
      "\u001b[1;32mpandas\\_libs\\parsers.pyx\u001b[0m in \u001b[0;36mpandas._libs.parsers.TextReader._setup_parser_source\u001b[1;34m()\u001b[0m\n",
      "\u001b[1;31mFileNotFoundError\u001b[0m: File b'technical_support_data.csv' does not exist"
     ]
    }
   ],
   "source": [
    "%matplotlib inline\n",
    "\n",
    "import pandas as pd\n",
    "import numpy as np\n",
    "import matplotlib.pylab as plt\n",
    "from sklearn.model_selection  import train_test_split\n",
    "from sklearn.cluster import KMeans\n",
    "#import sklearn.metrics\n",
    "\n",
    "tech_supp_df = pd.read_csv(\"technical_support_data.csv\")\n",
    "tech_supp_df.dtypes"
   ]
  },
  {
   "cell_type": "markdown",
   "metadata": {
    "colab_type": "text",
    "id": "eW88bjuvqf5o"
   },
   "source": [
    "The dataset contains one record for each unique problem type. It has metrics for each type like count, average calls to resolve, average resolution time etc."
   ]
  },
  {
   "cell_type": "code",
   "execution_count": null,
   "metadata": {
    "colab": {},
    "colab_type": "code",
    "id": "DFBxs9Syqf5q",
    "outputId": "bd72e031-6f39-4639-d5d0-152b50c38ffe"
   },
   "outputs": [],
   "source": [
    "tech_supp_df.head()"
   ]
  },
  {
   "cell_type": "markdown",
   "metadata": {
    "colab_type": "text",
    "id": "dbn46iRuqf5v"
   },
   "source": [
    "## Group Data into similar clusters\n",
    "\n",
    "Now, we will use K-Means clustering to group data based on their attribute. First, we need to determine the optimal number of groups. For that we conduct the knee test to see where the knee happens."
   ]
  },
  {
   "cell_type": "code",
   "execution_count": null,
   "metadata": {
    "colab": {},
    "colab_type": "code",
    "id": "GJ_z7Buwqf5x",
    "outputId": "2fe63549-869d-419f-cd19-ff1242268b8b",
    "scrolled": true
   },
   "outputs": [],
   "source": [
    "tech_supp_attributes = tech_supp_df.drop(\"PROBLEM_TYPE\",axis=1)\n",
    "\n",
    "#Finding optimal no. of clusters\n",
    "from scipy.spatial.distance import cdist\n",
    "clusters=range(1,10)\n",
    "meanDistortions=[]\n",
    "\n",
    "for k in clusters:\n",
    "    model=KMeans(n_clusters=k)\n",
    "    model.fit(tech_supp_attributes)\n",
    "    prediction=model.predict(tech_supp_attributes)\n",
    "    meanDistortions.append(sum(np.min(cdist(tech_supp_attributes, model.cluster_centers_, 'euclidean'), axis=1)) / tech_supp_attributes.shape[0])\n",
    "\n",
    "\n",
    "plt.plot(clusters, meanDistortions, 'bx-')\n",
    "plt.xlabel('k')\n",
    "plt.ylabel('Average distortion')\n",
    "plt.title('Selecting k with the Elbow Method')\n"
   ]
  },
  {
   "cell_type": "markdown",
   "metadata": {
    "colab_type": "text",
    "id": "LeWqzIRNqf54"
   },
   "source": [
    "Though the bend is not coming out clearly as there are many bends, let us look at 2 clusters and 3 clusters"
   ]
  },
  {
   "cell_type": "code",
   "execution_count": null,
   "metadata": {
    "colab": {},
    "colab_type": "code",
    "id": "EsP8_LBKqf56",
    "outputId": "1a8bd8e4-b729-46c8-dc27-3755c010ad56"
   },
   "outputs": [],
   "source": [
    "# Let us first start with K = 2\n",
    "final_model=KMeans(2)\n",
    "final_model.fit(tech_supp_attributes)\n",
    "prediction=final_model.predict(tech_supp_attributes)\n",
    "\n",
    "#Append the prediction \n",
    "tech_supp_df[\"GROUP\"] = prediction\n",
    "print(\"Groups Assigned : \\n\")\n",
    "tech_supp_df[[\"PROBLEM_TYPE\", \"GROUP\"]]"
   ]
  },
  {
   "cell_type": "markdown",
   "metadata": {
    "colab_type": "text",
    "id": "ck4XGXSjqf6C"
   },
   "source": [
    "Analyze the distribution of the data among the two groups (K = 2). One of the most informative visual tool is boxplot.\n"
   ]
  },
  {
   "cell_type": "code",
   "execution_count": null,
   "metadata": {
    "colab": {},
    "colab_type": "code",
    "id": "QzlZMEEaqf6E",
    "outputId": "920d7ccb-5c96-4c35-e601-94e64e55e1da"
   },
   "outputs": [],
   "source": [
    "#plt.cla()\n",
    "\n",
    "# plt.boxplot([[tech_supp_df[\"no_of_cases\"][tech_supp_df.GROUP==0]],\n",
    "#              [tech_supp_df[\"no_of_cases\"][tech_supp_df.GROUP==1]] ],\n",
    "#               labels=('GROUP 1','GROUP 2'))\n",
    "\n",
    "\n",
    "\n",
    "\n",
    "\n",
    "tech_supp_df.boxplot(by='GROUP',layout=(2,4),figsize=(15,10))\n",
    "\n",
    "\n"
   ]
  },
  {
   "cell_type": "code",
   "execution_count": null,
   "metadata": {
    "colab": {},
    "colab_type": "code",
    "id": "CqpJwcybqf6M"
   },
   "outputs": [],
   "source": [
    "# The K = 2 boxplot clearly shows outliers in group 1. Indicating that the group 1 is stretched\n",
    "# indicating probability of another cluster. Let us try with K = 3, the next elbow point"
   ]
  },
  {
   "cell_type": "code",
   "execution_count": null,
   "metadata": {
    "colab": {},
    "colab_type": "code",
    "id": "HsmQzYLzqf6T",
    "outputId": "d8faa25b-43a2-4783-db03-159c30f90cbd"
   },
   "outputs": [],
   "source": [
    "# Let us first start with K = 3\n",
    "final_model=KMeans(3)\n",
    "final_model.fit(tech_supp_attributes)\n",
    "prediction=final_model.predict(tech_supp_attributes)\n",
    "\n",
    "#Append the prediction \n",
    "tech_supp_df[\"GROUP\"] = prediction\n",
    "print(\"Groups Assigned : \\n\")\n",
    "tech_supp_df[[\"PROBLEM_TYPE\", \"GROUP\"]]\n",
    "tech_supp_df.info"
   ]
  },
  {
   "cell_type": "code",
   "execution_count": null,
   "metadata": {
    "colab": {},
    "colab_type": "code",
    "id": "86Ypg_PHqf6a",
    "outputId": "2753099c-25b9-4e1d-be5f-fe9685ca6b7a"
   },
   "outputs": [],
   "source": [
    "#plt.cla()\n",
    "\n",
    "plt.boxplot([[tech_supp_df[\"no_of_cases\"][tech_supp_df.GROUP==0]],\n",
    "             [tech_supp_df[\"no_of_cases\"][tech_supp_df.GROUP==1]] ,\n",
    "             [tech_supp_df[\"no_of_cases\"][tech_supp_df.GROUP==2]] ],\n",
    "              labels=('GROUP 1','GROUP 2','GROUP 3'))\n"
   ]
  },
  {
   "cell_type": "code",
   "execution_count": null,
   "metadata": {
    "colab": {},
    "colab_type": "code",
    "id": "n5r5SRDgqf6f"
   },
   "outputs": [],
   "source": [
    "#Analyzing in terms of k = 3 seems to give a better segregation of the technical support tickets than K=2. \n",
    "#The boxes are tighter indicating the spread of data is much less in K = 3 than in K = 2 and there are no outliers!"
   ]
  },
  {
   "cell_type": "code",
   "execution_count": null,
   "metadata": {
    "colab": {},
    "colab_type": "code",
    "id": "pIGteaDgqf6j",
    "outputId": "b3a8e46f-0082-4adf-fcf2-7426409229e6"
   },
   "outputs": [],
   "source": [
    "# That we have 3 clusters to work with, let us boxplot on Avg_resol_time in days\n",
    "plt.cla()\n",
    "plt.boxplot([[tech_supp_df[\"Avg_pending_calls\"][tech_supp_df.GROUP==0]],\n",
    "              [tech_supp_df[\"Avg_pending_calls\"][tech_supp_df.GROUP==1]] ,\n",
    "                [tech_supp_df[\"Avg_pending_calls\"][tech_supp_df.GROUP==2]] ],\n",
    "            labels=('GROUP 1','GROUP 2','GROUP 3'))\n",
    " "
   ]
  },
  {
   "cell_type": "markdown",
   "metadata": {
    "colab_type": "text",
    "collapsed": true,
    "id": "j1TZBQK9qf6q"
   },
   "source": [
    "From the box plot it is clear that technical issues belonging to group 2 and 3 take much less time to resolve and hence not so many pending calls even though they are them most frequently occuring tech support issues (box plot 1) \n",
    "\n",
    "The group 2 and 3 may be most frequently reported issues and take less time to resolve but then do they re-occur i.e. same person reports those issues multiple times and hence the count is high (box plot 1)?"
   ]
  },
  {
   "cell_type": "code",
   "execution_count": null,
   "metadata": {
    "colab": {},
    "colab_type": "code",
    "id": "wimLfHZCqf6s",
    "outputId": "f3f6a8f1-7505-4f7a-aee3-70b208419aba"
   },
   "outputs": [],
   "source": [
    "plt.cla()\n",
    "plt.boxplot([[tech_supp_df[\"recurrence_freq\"][tech_supp_df.GROUP==0]],\n",
    "              [tech_supp_df[\"recurrence_freq\"][tech_supp_df.GROUP==1]] ,\n",
    "                [tech_supp_df[\"recurrence_freq\"][tech_supp_df.GROUP==2]] ],\n",
    "            labels=('GROUP 1','GROUP 2','GROUP 3'))"
   ]
  },
  {
   "cell_type": "markdown",
   "metadata": {
    "colab_type": "text",
    "id": "nw4vQlDAqf60"
   },
   "source": [
    "Group 2 technical issues are reportedly higer in count but most of it is reoccuring!!! Simple to solve issues but re-occur frequently indicating opportunity for quality improvement. This report needs to be brought to the notice of the engineering dept.\n",
    "\n",
    "Whereas group 3, not so frequently occuring as group 2 has a small percentage of reoccuring cases. Easy to resolve but there is some %age of recurrance indicating probably a need to train the technical support staff to do a quality check before closing the issue"
   ]
  },
  {
   "cell_type": "code",
   "execution_count": null,
   "metadata": {
    "colab": {},
    "colab_type": "code",
    "id": "QNWshH50qf65"
   },
   "outputs": [],
   "source": [
    "# Analyse the groups by Replace percentage i.e. %age of cases that need replacement"
   ]
  },
  {
   "cell_type": "code",
   "execution_count": null,
   "metadata": {
    "colab": {},
    "colab_type": "code",
    "id": "faTTRtZ9qf7F",
    "outputId": "f068a7e9-6bc5-4875-fcf0-b2cf40a0d22f"
   },
   "outputs": [],
   "source": [
    "plt.cla()\n",
    "plt.boxplot([[tech_supp_df[\"Replace_percent\"][tech_supp_df.GROUP==0]],\n",
    "              [tech_supp_df[\"Replace_percent\"][tech_supp_df.GROUP==1]] ,\n",
    "                [tech_supp_df[\"Replace_percent\"][tech_supp_df.GROUP==2]] ],\n",
    "            labels=('GROUP 1','GROUP 2','GROUP 3'))"
   ]
  },
  {
   "cell_type": "markdown",
   "metadata": {
    "colab_type": "text",
    "id": "cVNsbmdhqf7T"
   },
   "source": [
    "Replacement rate for group2 and 3 is almost non existent. Yet again indicating that these issues are easy to resolve whereas the group 1 is a cluster of issues that need more effort and maybe replacement too. "
   ]
  },
  {
   "cell_type": "code",
   "execution_count": null,
   "metadata": {
    "colab": {},
    "colab_type": "code",
    "id": "Dph2_peBqf7V",
    "outputId": "c805b31c-a134-4e0d-b936-6acf9b7d556e"
   },
   "outputs": [],
   "source": [
    "# That we have 3 clusters to work with, let us boxplot on Avg_resol_time in days\n",
    "plt.cla()\n",
    "plt.boxplot([[tech_supp_df[\"Avg_resol_time\"][tech_supp_df.GROUP==0]],\n",
    "              [tech_supp_df[\"Avg_resol_time\"][tech_supp_df.GROUP==1]] ,\n",
    "                [tech_supp_df[\"Avg_resol_time\"][tech_supp_df.GROUP==2]] ],\n",
    "            labels=('GROUP 1','GROUP 2','GROUP 3'))\n",
    " "
   ]
  },
  {
   "cell_type": "code",
   "execution_count": null,
   "metadata": {
    "colab": {},
    "colab_type": "code",
    "id": "4mzALOQiqf7c"
   },
   "outputs": [],
   "source": [
    "# Average resolution time distribution across the three clusters reflects the same information as avg pending cases.\n",
    "\n",
    "# In view of this analysis, one can think of providing self help facilities to the customer for group 2 and group 3 issues\n",
    "# Even a chat facility or helpline number may bring down these issues and also customer is likely to feel good\n",
    "# with immediate help and resolution.\n",
    "# One may even consider automating the ticket resolutions....\n"
   ]
  },
  {
   "cell_type": "code",
   "execution_count": null,
   "metadata": {
    "colab": {},
    "colab_type": "code",
    "id": "bJIBcKbMqf7f"
   },
   "outputs": [],
   "source": []
  }
 ],
 "metadata": {
  "colab": {
   "name": "tech_supp_analysis.ipynb",
   "provenance": [],
   "version": "0.3.2"
  },
  "kernelspec": {
   "display_name": "Python 3",
   "language": "python",
   "name": "python3"
  },
  "language_info": {
   "codemirror_mode": {
    "name": "ipython",
    "version": 3
   },
   "file_extension": ".py",
   "mimetype": "text/x-python",
   "name": "python",
   "nbconvert_exporter": "python",
   "pygments_lexer": "ipython3",
   "version": "3.7.0"
  }
 },
 "nbformat": 4,
 "nbformat_minor": 1
}
